{
 "cells": [
  {
   "cell_type": "code",
   "execution_count": 5,
   "metadata": {},
   "outputs": [],
   "source": [
    "import numpy as np\n",
    "import matplotlib.pyplot as plt\n",
    "import seaborn as sns\n",
    "import pandas as pd\n",
    "import os\n",
    "import retrieval_functions as rf\n",
    "import importlib\n",
    "importlib.reload(rf)\n",
    "rf.init_plotting()"
   ]
  },
  {
   "cell_type": "code",
   "execution_count": 6,
   "metadata": {},
   "outputs": [],
   "source": [
    "experiment = \"01_Multiplication\" # 506\n",
    "experiment = \"02_Compare\" # 507|508|509\n",
    "# experiment = \"03_Share\"\n",
    "# experiment = \"04_LogReg\" # 526|527|528\n",
    "# experiment = \"05_Reveal\" # 512\n",
    "# experiment = \"06_LeNet\" # 529|530|531\n",
    "experiment = \"07_Aes\" # 525\n",
    "# experiment = \"08_SecureMean\" # 519\n",
    "# experiment = \"09_SecureMin\" # 516|517|518\n",
    "# experiment = \"10_PSI\" # 520\n",
    "# experiment = \"11_Auction\" # 521|522|523\n",
    "# experiment = \"12_VGG\" # 532|533|534\n",
    "# experiment = \"15_BitAND\" # 524\n",
    "# experiment = \"16_Division\" # 510\n",
    "\n",
    "# framworks = [\"HPMPC\", \"mp-slice\", \"MP-SPDZ\"]\n",
    "framworks = [\"mp-slice\"]\n",
    "# framworks = [\"MPyC\", \"HPMPC\", \"mp-slice\", \"MP-SPDZ\"]\n",
    "\n",
    "data = []\n",
    "base = \"./results/Deviation/\"\n",
    "for framework in framworks:\n",
    "    path= base + framework + \"/\" + experiment+\"/data/input_short_results.csv\"\n",
    "    frame=pd.read_csv(path ,header=0,sep=';',index_col=False,engine='python')\n",
    "    frame['framework']=framework\n",
    "    if framework==\"MPyC\":\n",
    "        # assuming your dataframe is df and the time column is 'time'\n",
    "        frame['runtime_internal(s)'] = pd.to_datetime(frame['runtime_internal(s)'], format='%H:%M:%S.%f').dt.time\n",
    "\n",
    "        # convert time to seconds\n",
    "        frame['runtime_internal(s)'] = frame['runtime_internal(s)'].apply(lambda t: t.hour*3600 + t.minute*60 + t.second + t.microsecond*1e-6)\n",
    "        frame['peakRAM(MiB)']= frame['peakRAM(MiB)']\n",
    "    elif framework==\"HPMPC\" or framework==\"mp-slice\":\n",
    "        factor = 1\n",
    "        if frame['splitroles'].max() == 1:\n",
    "            factor = 6\t\n",
    "        elif frame['splitroles'].max() == 2:\n",
    "            factor = 24\n",
    "        else:\n",
    "            factor=1\n",
    "        frame['runtime_external(s)'] = pd.to_numeric(frame['runtime_external(s)'])* frame['threads'].max()*factor\n",
    "    data.append(frame)"
   ]
  },
  {
   "cell_type": "code",
   "execution_count": 7,
   "metadata": {},
   "outputs": [
    {
     "name": "stdout",
     "output_type": "stream",
     "text": [
      "mean input_size\n",
      "100       0.680\n",
      "1000      4.055\n",
      "10000    39.295\n",
      "Name: runtime_external(s), dtype: float64\n"
     ]
    },
    {
     "data": {
      "image/png": "[encoded data removed]",
      "text/plain": [
       "<Figure size 591x350 with 1 Axes>"
      ]
     },
     "metadata": {},
     "output_type": "display_data"
    }
   ],
   "source": [
    "inputs,label=rf.get_input_deviation(data)\n",
    "label = [\"mp-slice\"]\n",
    "\n",
    "fig, ax = plt.subplots()\n",
    "n_groups = len(inputs[0])\n",
    "n_bars = len(inputs)\n",
    "\n",
    "# Setting the bar width\n",
    "width = 0.35\n",
    "\n",
    "total_width = n_bars * width\n",
    "offset = total_width / 2 - width / 2\n",
    "\n",
    "# Setting the x locations for the groups\n",
    "ind = np.arange(n_groups)\n",
    "\n",
    "# Create bars\n",
    "bar_list = []\n",
    "for i, df in enumerate(inputs):\n",
    "    bar_position = ind - offset + i * width\n",
    "    bar_list.append(ax.bar(bar_position, df['mean'], width, yerr=df['std'] , label=f\"mp-slice\"))\n",
    "\n",
    "\n",
    "# Add some text for labels, title and custom x-axis tick labels, etc.\n",
    "ax.set_yscale('log')\n",
    "ax.set_ylabel('Runtime [s]')\n",
    "ax.set_xlabel('Input Size')\n",
    "ax.set_title(f'Runtime [s] for {experiment}')\n",
    "ax.set_xticks(ind)\n",
    "ax.set_xticklabels((inputs[0]['input_size']))\n",
    "ax.tick_params(bottom=False, left=False)\n",
    "\n",
    "# Third, add a horizontal grid (but keep the vertical grid hidden).\n",
    "# Color the lines a light gray as well.\n",
    "ax.set_axisbelow(True)\n",
    "ax.yaxis.grid(True, color='#EEEEEE')\n",
    "ax.xaxis.grid(False)\n",
    "fig.tight_layout()\n",
    "ax.legend()\n",
    "ax.figure.set_size_inches(5.91, 3.5)\n",
    "plt.show()"
   ]
  },
  {
   "cell_type": "code",
   "execution_count": 8,
   "metadata": {},
   "outputs": [
    {
     "name": "stdout",
     "output_type": "stream",
     "text": [
      "mean input_size\n",
      "100        40.0\n",
      "1000      453.0\n",
      "10000    2244.0\n",
      "Name: peakRAM(MiB), dtype: float64\n"
     ]
    },
    {
     "data": {
      "image/png": "[encoded data removed]",
      "text/plain": [
       "<Figure size 591x350 with 1 Axes>"
      ]
     },
     "metadata": {},
     "output_type": "display_data"
    }
   ],
   "source": [
    "inputs,label=rf.get_input_deviation_ram(data)\n",
    "label = [\"mp-slice\"]\n",
    "\n",
    "fig, ax = plt.subplots()\n",
    "n_groups = len(inputs[0])\n",
    "n_bars = len(inputs)\n",
    "\n",
    "# Setting the bar width\n",
    "width = 0.35\n",
    "\n",
    "total_width = n_bars * width\n",
    "offset = total_width / 2 - width / 2\n",
    "\n",
    "# Setting the x locations for the groups\n",
    "ind = np.arange(n_groups)\n",
    "\n",
    "# Create bars\n",
    "bar_list = []\n",
    "for i, df in enumerate(inputs):\n",
    "    bar_position = ind - offset + i * width\n",
    "    bar_list.append(ax.bar(bar_position, df['mean'], width, yerr=df['std'] , label=f\"mp-slice\"))\n",
    "\n",
    "\n",
    "# Add some text for labels, title and custom x-axis tick labels, etc.\n",
    "ax.set_yscale('log')\n",
    "ax.set_ylabel('peakRAM [MiB]')\n",
    "ax.set_xlabel('Input Size')\n",
    "ax.set_title(f'peak RAM [MiB] for {experiment}')\n",
    "ax.set_xticks(ind)\n",
    "ax.set_xticklabels((inputs[0]['input_size']))\n",
    "ax.tick_params(bottom=False, left=False)\n",
    "\n",
    "# Third, add a horizontal grid (but keep the vertical grid hidden).\n",
    "# Color the lines a light gray as well.\n",
    "ax.set_axisbelow(True)\n",
    "ax.yaxis.grid(True, color='#EEEEEE')\n",
    "ax.xaxis.grid(False)\n",
    "fig.tight_layout()\n",
    "ax.legend()\n",
    "ax.figure.set_size_inches(5.91, 3.5)\n",
    "plt.show()"
   ]
  }
 ],
 "metadata": {
  "kernelspec": {
   "display_name": "bench",
   "language": "python",
   "name": "python3"
  },
  "language_info": {
   "codemirror_mode": {
    "name": "ipython",
    "version": 3
   },
   "file_extension": ".py",
   "mimetype": "text/x-python",
   "name": "python",
   "nbconvert_exporter": "python",
   "pygments_lexer": "ipython3",
   "version": "3.12.3"
  }
 },
 "nbformat": 4,
 "nbformat_minor": 2
}
