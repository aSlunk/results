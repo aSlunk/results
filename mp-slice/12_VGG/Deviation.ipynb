{
 "cells": [
  {
   "cell_type": "code",
   "execution_count": 155,
   "metadata": {},
   "outputs": [],
   "source": [
    "import numpy as np\n",
    "import matplotlib.pyplot as plt\n",
    "import seaborn as sns\n",
    "import pandas as pd\n",
    "import os\n",
    "import retrieval_functions as rf\n",
    "import importlib\n",
    "importlib.reload(rf)\n",
    "rf.init_plotting()"
   ]
  },
  {
   "cell_type": "code",
   "execution_count": 156,
   "metadata": {},
   "outputs": [],
   "source": [
    "experiment = \"01_Multiplication\" # 506\n",
    "experiment = \"02_Compare\" # 507|508|509\n",
    "# experiment = \"03_Share\"\n",
    "# experiment = \"04_LogReg\" # 526|527|528\n",
    "# experiment = \"05_Reveal\" # 512\n",
    "# experiment = \"06_LeNet\" # 529|530|531\n",
    "experiment = \"07_Aes\" # 525\n",
    "# experiment = \"08_SecureMean\" # 519\n",
    "# experiment = \"09_SecureMin\" # 516|517|518\n",
    "# experiment = \"10_PSI\" # 520\n",
    "# experiment = \"11_Auction\" # 521|522|523\n",
    "experiment = \"12_VGG\" # 532|533|534\n",
    "# experiment = \"15_BitAND\" # 524\n",
    "# experiment = \"16_Division\" # 510\n",
    "\n",
    "framworks = [\"HPMPC\", \"mp-slice\", \"MP-SPDZ\"]\n",
    "# framworks = [\"mp-slice\"]\n",
    "# framworks = [\"MPyC\", \"HPMPC\", \"mp-slice\", \"MP-SPDZ\"]\n",
    "\n",
    "data = []\n",
    "base = \"./results/Deviation/\"\n",
    "for framework in framworks:\n",
    "    path= base + framework + \"/\" + experiment+\"/data/short_results.csv\"\n",
    "    frame=pd.read_csv(path ,header=0,sep=';',index_col=False,engine='python')\n",
    "    frame['framework']=framework\n",
    "    if framework==\"MPyC\":\n",
    "        # assuming your dataframe is df and the time column is 'time'\n",
    "        frame['runtime_internal(s)'] = pd.to_datetime(frame['runtime_internal(s)'], format='%H:%M:%S.%f').dt.time\n",
    "\n",
    "        # convert time to seconds\n",
    "        frame['runtime_internal(s)'] = frame['runtime_internal(s)'].apply(lambda t: t.hour*3600 + t.minute*60 + t.second + t.microsecond*1e-6)\n",
    "        frame['peakRAM(MiB)']= frame['peakRAM(MiB)']\n",
    "    elif framework==\"HPMPC\" or framework==\"mp-slice\":\n",
    "        factor = 1\n",
    "        if frame['splitroles'].max() == 1:\n",
    "            factor = 6\t\n",
    "        elif frame['splitroles'].max() == 2:\n",
    "            factor = 24\n",
    "        else:\n",
    "            factor=1\n",
    "        frame['runtime_external(s)'] = pd.to_numeric(frame['runtime_external(s)'])* frame['threads'].max()*factor\n",
    "    data.append(frame)"
   ]
  },
  {
   "cell_type": "code",
   "execution_count": 157,
   "metadata": {},
   "outputs": [],
   "source": [
    "import pandas as pd\n"
   ]
  },
  {
   "cell_type": "code",
   "execution_count": 158,
   "metadata": {},
   "outputs": [],
   "source": [
    "# fl_paths[-1].split(\"/\")[-2]"
   ]
  },
  {
   "cell_type": "code",
   "execution_count": 159,
   "metadata": {},
   "outputs": [],
   "source": [
    "# runtime/3600"
   ]
  },
  {
   "cell_type": "code",
   "execution_count": 160,
   "metadata": {},
   "outputs": [
    {
     "name": "stdout",
     "output_type": "stream",
     "text": [
      "std bandwidths(Mbs)\n",
      "100      0.780296\n",
      "1000     1.035096\n",
      "10000    0.062681\n",
      "25000    0.903341\n",
      "Name: runtime_external(s), dtype: float64\n",
      "std bandwidths(Mbs)\n",
      "100      0.004830\n",
      "1000     0.006749\n",
      "10000    0.009189\n",
      "25000    0.007739\n",
      "Name: runtime_external(s), dtype: float64\n",
      "std bandwidths(Mbs)\n",
      "100      0.007888\n",
      "1000     0.010328\n",
      "10000    0.008433\n",
      "25000    0.011265\n",
      "Name: runtime_external(s), dtype: float64\n",
      "std bandwidths(Mbs)\n",
      "100      0.441694\n",
      "1000     3.157954\n",
      "10000    1.408557\n",
      "25000    1.200171\n",
      "Name: runtime_external(s), dtype: float64\n",
      "std bandwidths(Mbs)\n",
      "1000     0.532426\n",
      "10000    0.484355\n",
      "25000    0.821517\n",
      "Name: runtime_external(s), dtype: float64\n",
      "1\n",
      "std bandwidths(Mbs)\n",
      "100      0.311063\n",
      "1000     0.541213\n",
      "10000    0.721314\n",
      "25000    0.721050\n",
      "Name: runtime_external(s), dtype: float64\n",
      "['HPMPC RCA', 'HPMPC PPA', 'HPMPC PPA4', 'mp-slice RCA', 'mp-slice PPA', 'MP-SPDZ replicated-ring honest maj.', 'MP-SPDZ semi2k dishonest maj.']\n"
     ]
    },
    {
     "data": {
      "image/png": "[encoded data removed]",
      "text/plain": [
       "<Figure size 591x380 with 1 Axes>"
      ]
     },
     "metadata": {},
     "output_type": "display_data"
    }
   ],
   "source": [
    "bandwidth,label=rf.get_bandwidth_deviation(data)\n",
    "# del bandwidth[-2] # Auction\n",
    "# del bandwidth[-2]\n",
    "# del label[-2]\n",
    "# del label[-2]\n",
    "\n",
    "# del bandwidth[3] # DIVISION\n",
    "# del bandwidth[3]\n",
    "# del label[3]\n",
    "# del label[3]\n",
    "\n",
    "# del bandwidth[-2] # secure min\n",
    "# del bandwidth[-2]\n",
    "# del label[-2]\n",
    "# del label[-2]\n",
    "\n",
    "# label = ['HPMPC RCA', 'HPMPC PPA', 'HPMPC PPA4', 'mp-slice RCA', 'mp-slice PPA', 'mp-slice PPA4', 'MP-SPDZ replicated-ring honest maj.', 'MP-SPDZ semi-bin dishonest maj', 'MP-SPDZ replicated-bin honest maj.']\n",
    "# label = ['HPMPC RCA', 'HPMPC PPA', 'HPMPC PPA4', 'mp-slice RCA', 'mp-slice PPA', 'mp-slice PPA4', 'MP-SPDZ replicated-ring honest maj.', 'MP-SPDZ semi2k dishonest maj.']\n",
    "label = ['HPMPC RCA', 'HPMPC PPA', 'HPMPC PPA4', 'mp-slice RCA', 'mp-slice PPA', 'MP-SPDZ replicated-ring honest maj.', 'MP-SPDZ semi2k dishonest maj.']\n",
    "# label = ['HPMPC honest majority', 'mp-slice honest majority', 'MP-SPDZ replicated-ring honest maj', 'MP-SPDZ semi2k dishonest maj.']\n",
    "\n",
    "print(label)\n",
    "rf.plot_deviation(bandwidth,label,\"test.png\",experiment,\"Bandwidth [Mbit/s]\",\"Runtime [s]\",True)"
   ]
  },
  {
   "cell_type": "code",
   "execution_count": 161,
   "metadata": {},
   "outputs": [],
   "source": [
    "# latency,label=rf.get_latency_deviation(data)\n",
    "# del latency[0] # AUCTION\n",
    "# del latency[1]\n",
    "# del latency[2]\n",
    "# del latency[-2]\n",
    "# del latency[-2]\n",
    "# del label[0]\n",
    "# del label[1]\n",
    "# del label[2]\n",
    "# del label[-2]\n",
    "# del label[-2]\n",
    "\n",
    "# del latency[3] # DIVISION\n",
    "# del latency[3]\n",
    "# del label[3]\n",
    "# del label[3]\n",
    "\n",
    "# del latency[-2] # secure min\n",
    "# del latency[-2]\n",
    "# del label[-2]\n",
    "# del label[-2]\n",
    "\n",
    "# del latency[-7] # LogReg\n",
    "# del latency[-7]\n",
    "# del latency[-7]\n",
    "# del latency[-7]\n",
    "# del latency[-7]\n",
    "# del label[-7]\n",
    "# del label[-7]\n",
    "# del label[-7]\n",
    "# del label[-7]\n",
    "# del label[-7]\n",
    "\n",
    "# label = ['HPMPC RCA', 'HPMPC PPA', 'HPMPC PPA4', 'mp-slice RCA', 'mp-slice PPA', 'mp-slice PPA4', 'MP-SPDZ replicated-ring honest maj.', 'MP-SPDZ semi-bin dishonest maj', 'MP-SPDZ replicated-bin honest maj.']\n",
    "# label = ['HPMPC RCA', 'HPMPC PPA', 'HPMPC PPA4', 'mp-slice RCA', 'mp-slice PPA', 'mp-slice PPA4', 'MP-SPDZ replicated-ring honest maj.', 'MP-SPDZ semi2k dishonest maj.']\n",
    "# label = ['HPMPC honest majority', 'mp-slice honest majority', 'MP-SPDZ replicated-ring honest maj', 'MP-SPDZ semi2k dishonest maj.']\n",
    "\n",
    "# print(label)\n",
    "# rf.plot_deviation(latency,label,\"test.png\",experiment,\"Latency [ms]\",\"Runtime [s]\",True)"
   ]
  },
  {
   "cell_type": "code",
   "execution_count": 162,
   "metadata": {},
   "outputs": [],
   "source": [
    "# packetdrop,label=rf.get_packetdrop_deviation(data)\n",
    "# del packetdrop[-2] # Auction\n",
    "# del packetdrop[-2]\n",
    "# del label[-2]\n",
    "# del label[-2]\n",
    "\n",
    "# del packetdrop[3] # Division\n",
    "# del packetdrop[3]\n",
    "# del label[3]\n",
    "# del label[3]\n",
    "\n",
    "# del packetdrop[-2] # secure min\n",
    "# del packetdrop[-2]\n",
    "# del label[-2]\n",
    "# del label[-2]\n",
    "\n",
    "# label = ['HPMPC RCA', 'HPMPC PPA', 'HPMPC PPA4', 'mp-slice RCA', 'mp-slice PPA', 'mp-slice PPA4', 'MP-SPDZ replicated-ring honest maj.', 'MP-SPDZ semi-bin dishonest maj', 'MP-SPDZ replicated-bin honest maj.']\n",
    "# label = ['HPMPC RCA', 'HPMPC PPA', 'HPMPC PPA4', 'mp-slice RCA', 'mp-slice PPA', 'mp-slice PPA4', 'MP-SPDZ replicated-ring honest maj.', 'MP-SPDZ semi2k dishonest maj.']\n",
    "label = ['HPMPC honest majority', 'mp-slice honest majority', 'MP-SPDZ replicated-ring honest maj', 'MP-SPDZ semi2k dishonest maj.']\n",
    "\n",
    "# print(label)\n",
    "# rf.plot_deviation(packetdrop,label,\"test.png\",experiment,\"Packetdrop [\\\\%]\",\"Runtime [s]\",True)"
   ]
  },
  {
   "cell_type": "code",
   "execution_count": 163,
   "metadata": {},
   "outputs": [],
   "source": [
    "# fig, ax = plt.subplots()\n",
    "# width = 0.4 # the width of the bars\n",
    "# ind = np.arange(4)*5  # Adjust the first parameter to center the bars\n",
    "# \n",
    "# bar_list=[]\n",
    "# for i in range(len(packetdrop)):\n",
    "#     bar_list.append(ax.bar(ind - 1.8 + i * width, packetdrop[i]['mean'], width, yerr=packetdrop[i]['std'], label=label[i]))\n",
    "# \n",
    "# # Add some text for labels, title and custom x-axis tick labels, etc.\n",
    "# #ax.set_yscale('log')\n",
    "# ax.set_ylabel('Runtime [s]')\n",
    "# ax.set_xlabel('Packet Loss [\\\\%]')\n",
    "# ax.set_title(f'Runtime [s] for {experiment}')\n",
    "# ax.set_xticks(ind)\n",
    "# ax.set_xticklabels((packetdrop[1]['packetdrops(%)']))\n",
    "# ax.spines['top'].set_visible(False)\n",
    "# ax.spines['right'].set_visible(False)\n",
    "# ax.spines['left'].set_visible(False)\n",
    "# ax.spines['bottom'].set_color('#DDDDDD')\n",
    "# ax.tick_params(bottom=False, left=False)\n",
    "# \n",
    "# # Third, add a horizontal grid (but keep the vertical grid hidden).\n",
    "# # Color the lines a light gray as well.\n",
    "# ax.set_yscale('log')\n",
    "# ax.set_axisbelow(True)\n",
    "# ax.yaxis.grid(True, color='#EEEEEE')\n",
    "# ax.xaxis.grid(False)\n",
    "# fig.tight_layout()\n",
    "# ax.legend()\n",
    "# ax.figure.set_size_inches(5.91, 3.5)\n",
    "# plt.savefig(experiment+'_packetdrop_bar.png',dpi=300, bbox_inches='tight')\n",
    "# plt.show()"
   ]
  },
  {
   "cell_type": "code",
   "execution_count": 164,
   "metadata": {},
   "outputs": [
    {
     "name": "stdout",
     "output_type": "stream",
     "text": [
      "std bandwidths(Mbs)\n",
      "100      0.780296\n",
      "1000     1.035096\n",
      "10000    0.062681\n",
      "25000    0.903341\n",
      "Name: runtime_external(s), dtype: float64\n",
      "std bandwidths(Mbs)\n",
      "100      0.004830\n",
      "1000     0.006749\n",
      "10000    0.009189\n",
      "25000    0.007739\n",
      "Name: runtime_external(s), dtype: float64\n",
      "std bandwidths(Mbs)\n",
      "100      0.007888\n",
      "1000     0.010328\n",
      "10000    0.008433\n",
      "25000    0.011265\n",
      "Name: runtime_external(s), dtype: float64\n",
      "std bandwidths(Mbs)\n",
      "100      0.441694\n",
      "1000     3.157954\n",
      "10000    1.408557\n",
      "25000    1.200171\n",
      "Name: runtime_external(s), dtype: float64\n",
      "std bandwidths(Mbs)\n",
      "1000     0.532426\n",
      "10000    0.484355\n",
      "25000    0.821517\n",
      "Name: runtime_external(s), dtype: float64\n",
      "1\n",
      "std bandwidths(Mbs)\n",
      "100      0.311063\n",
      "1000     0.541213\n",
      "10000    0.721314\n",
      "25000    0.721050\n",
      "Name: runtime_external(s), dtype: float64\n",
      "['HPMPC RCA', 'HPMPC PPA', 'HPMPC PPA4', 'mp-slice RCA', 'mp-slice PPA', 'MP-SPDZ replicated-ring honest maj.']\n"
     ]
    },
    {
     "data": {
      "text/plain": [
       "[3.068,\n",
       " 1.3969999999999998,\n",
       " 1.082,\n",
       " 290.72400000000005,\n",
       " 286.2444444444444,\n",
       " 66.466]"
      ]
     },
     "execution_count": 164,
     "metadata": {},
     "output_type": "execute_result"
    }
   ],
   "source": [
    "bandwidth,label=rf.get_bandwidth_deviation(data)\n",
    "# del bandwidth[-2] # Auction\n",
    "# del bandwidth[-2]\n",
    "# del label[-2]\n",
    "# del label[-2]\n",
    "\n",
    "# del bandwidth[3] # Division\n",
    "# del bandwidth[3]\n",
    "# del label[3]\n",
    "# del label[3]\n",
    "\n",
    "# del bandwidth[-2] # secure min\n",
    "# del bandwidth[-2]\n",
    "# del label[-2]\n",
    "# del label[-2]\n",
    "\n",
    "# label = ['HPMPC RCA', 'HPMPC PPA', 'HPMPC PPA4', 'mp-slice RCA', 'mp-slice PPA', 'mp-slice PPA4', 'MP-SPDZ replicated-ring honest maj.', 'MP-SPDZ semi-bin dishonest maj', 'MP-SPDZ replicated-bin honest maj.']\n",
    "# label = ['HPMPC RCA', 'HPMPC PPA', 'HPMPC PPA4', 'mp-slice RCA', 'mp-slice PPA', 'mp-slice PPA4', 'MP-SPDZ replicated-ring honest maj.', 'MP-SPDZ semi2k dishonest maj.']\n",
    "label = ['HPMPC RCA', 'HPMPC PPA', 'HPMPC PPA4', 'mp-slice RCA', 'mp-slice PPA', 'MP-SPDZ replicated-ring honest maj.']\n",
    "# label = ['HPMPC honest majority', 'mp-slice honest majority', 'MP-SPDZ replicated-ring honest maj', 'MP-SPDZ semi2k dishonest maj.']\n",
    "\n",
    "print(label)\n",
    "[df['mean'].iloc[0] for df in bandwidth]"
   ]
  },
  {
   "cell_type": "code",
   "execution_count": 165,
   "metadata": {},
   "outputs": [
    {
     "data": {
      "text/plain": [
       "[0.7802962400410642,\n",
       " 0.004830458915396471,\n",
       " 0.007888106377466075,\n",
       " 0.4416937098638995,\n",
       " 0.5324263120637217,\n",
       " 0.31106269464530617]"
      ]
     },
     "execution_count": 165,
     "metadata": {},
     "output_type": "execute_result"
    }
   ],
   "source": [
    "[df['mean'].iloc[0] for df in bandwidth]\n",
    "[df['std'].iloc[0] for df in bandwidth]"
   ]
  },
  {
   "cell_type": "code",
   "execution_count": 166,
   "metadata": {},
   "outputs": [
    {
     "data": {
      "image/png": "[encoded data removed]",
      "text/plain": [
       "<Figure size 640x480 with 1 Axes>"
      ]
     },
     "metadata": {},
     "output_type": "display_data"
    }
   ],
   "source": [
    "import seaborn as sns\n",
    "import matplotlib.pyplot as plt\n",
    "\n",
    "# Extract the 'mean' and 'std' values separately\n",
    "mean_values = [df['mean'].iloc[0] for df in bandwidth]\n",
    "std_values = [df['std'].iloc[0] for df in bandwidth]\n",
    "\n",
    "# Create a bar plot with 'mean' values as the height of the bars and 'std' values as standard deviation\n",
    "fig, ax = plt.subplots()\n",
    "ax.bar(label, mean_values,yerr=std_values,capsize=3)\n",
    "\n",
    "plt.xticks(rotation='vertical')\n",
    "\n",
    "# Add labels and title\n",
    "plt.xlabel('Dataframe')\n",
    "plt.ylabel('Standard Deviation')\n",
    "plt.title('Bar Plot of Standard Deviation')\n",
    "\n",
    "# Set y-axis to logarithmic scale\n",
    "ax.set_yscale('log')\n",
    "\n",
    "# Show the plot\n",
    "plt.show()\n"
   ]
  },
  {
   "cell_type": "code",
   "execution_count": 193,
   "metadata": {},
   "outputs": [
    {
     "data": {
      "image/png": "[encoded data removed]",
      "text/plain": [
       "<Figure size 591x280 with 1 Axes>"
      ]
     },
     "metadata": {},
     "output_type": "display_data"
    }
   ],
   "source": [
    "import seaborn as sns\n",
    "import matplotlib.pyplot as plt\n",
    "# Example data\n",
    "fig, ax = plt.subplots()\n",
    "\n",
    "pos = 1\n",
    "deviation61 = data[pos].loc[(data[pos]['function'] == 532) & (data[pos]['preprocess']==0), ['runtime_external(s)']].values.flatten().tolist()\n",
    "deviation62 = data[pos].loc[(data[pos]['function'] == 533)  & (data[pos]['preprocess']==0), ['runtime_external(s)']].values.flatten().tolist()\n",
    "# deviation63 = data[pos].loc[(data[pos]['function'] == 509) & (data[pos]['packetdrops(%)'] == 0) & (data[pos]['latencies(ms)'] == 0) & (data[pos]['preprocess']==0), ['runtime_external(s)']].values.flatten().tolist()\n",
    "\n",
    "# Plot the first violin plot\n",
    "two_dimensional_list = [deviation61, deviation62]\n",
    "ax.violinplot(two_dimensional_list, showmeans=True, showmedians=True)\n",
    "# Set the x-tick labels\n",
    "ax.set_xticks([1, 2])\n",
    "ax.set_xticklabels([\"RCA\", \"PPA\"])\n",
    "\n",
    "\n",
    "# Set plot title and labels\n",
    "plt.title(f\"Devation of runtime for {framworks[pos]}: {experiment}\")\n",
    "plt.xlabel(\"Comparison Type\")\n",
    "plt.ylabel(\"Runtime [s]\")\n",
    "ax.figure.set_size_inches(5.91, 2.8)\n",
    "fig.tight_layout()\n",
    "plt.savefig(\"HPMPC_deviation.png\",dpi=300,bbox_inches='tight')\n",
    "plt.show()"
   ]
  },
  {
   "cell_type": "code",
   "execution_count": 186,
   "metadata": {},
   "outputs": [
    {
     "name": "stdout",
     "output_type": "stream",
     "text": [
      "['HPMPC honest majority74', 'HPMPC honest majority174', 'HPMPC honest majority274', 'mp-slice honest majority532', 'mp-slice honest majority533', 'MP-SPDZ replicated-ring']\n",
      "27.39\n",
      "30.67\n",
      "27.99\n",
      "1275.72\n",
      "1272.93\n",
      "2394.79\n"
     ]
    },
    {
     "data": {
      "image/png": "[encoded data removed]",
      "text/plain": [
       "<Figure size 591x280 with 2 Axes>"
      ]
     },
     "metadata": {},
     "output_type": "display_data"
    }
   ],
   "source": [
    "def plot_ram_bar(data,experiment,frameworks):\n",
    "    fig, (ax1, ax2) = plt.subplots(2, 1, sharex=True)\n",
    "    values=[]\n",
    "    label=[]\n",
    "    error=[]\n",
    "    for i in range(len(data)):\n",
    "        if data[i]['framework'][0] in [\"HPMPC\", \"mp-slice\"]:\n",
    "            for function in data[i]['function'].unique():\n",
    "                date = float(data[i].loc[(data[i]['function'] == function) & (data[i]['preprocess']==0), ['peakRAM(MiB)']].mean().iloc[0])\n",
    "                err = float(data[i].loc[(data[i]['function'] == function) & (data[i]['preprocess']==0), ['peakRAM(MiB)']].std().iloc[0])\n",
    "                values.append(round(date,2))\n",
    "                error.append(round(err,2))\n",
    "                label.append(frameworks[i] + ' honest majority' + str(function))\n",
    "        elif data[i]['framework'][0] in [\"MP-SPDZ\",\"MOTION\"]:\n",
    "            for protocol in data[i]['protocol'].unique():\n",
    "                if protocol not in [\"ps-rep-field\",\"ps-rep-ring\",\"ps-rep-bin\",\"sy-rep-field\",\"malicious-rep-field\"]:\n",
    "                    date = float(data[i].loc[ (data[i]['protocol']==protocol), ['peakRAM(MiB)']].mean().iloc[0])\n",
    "                    err = float(data[i].loc[ (data[i]['protocol']==protocol), ['peakRAM(MiB)']].std().iloc[0])\n",
    "                    values.append(round(date,2))\n",
    "                    error.append(round(err,2))\n",
    "                    label.append(frameworks[i]+' '+str(protocol))\n",
    "        else:\n",
    "            date = float(data[i]['peakRAM(MiB)'].mean())\n",
    "            err = float(data[i]['peakRAM(MiB)'].std())\n",
    "            values.append(round(date,2))\n",
    "            error.append(round(err,2))\n",
    "            label.append(frameworks[i])\n",
    "    #ax.set_yscale('log')  # Set y-axis as logarithmic\n",
    "    print(label)\n",
    "    # label = ['HPMPC RCA', 'HPMPC PPA', 'HPMPC PPA4', 'mp-slice RCA', 'mp-slice PPA', 'mp-slice PPA4', 'MP-SPDZ replicated-ring honest maj.', 'MP-SPDZ semi-bin dishonest maj', 'MP-SPDZ replicated-bin honest maj.']\n",
    "    # label = ['HPMPC honest majority', 'mp-slice honest majority', 'MP-SPDZ replicated-ring honest maj', 'MP-SPDZ semi2k dishonest maj.']\n",
    "    label = ['HPMPC RCA', 'HPMPC PPA', 'HPMPC PPA4', 'mp-slice RCA', 'mp-slice PPA', 'MP-SPDZ replicated-ring']\n",
    "    # label = ['HPMPC RCA', 'HPMPC PPA', 'HPMPC PPA4', 'mp-slice RCA', 'mp-slice PPA', 'mp-slice PPA4', 'MP-SPDZ replicated-ring honest maj.', 'MP-SPDZ semi2k dishonest maj.']\n",
    "    bars=ax1.bar(label,values,yerr=error,capsize=5)\n",
    "    bars2=ax2.bar(label,values,yerr=error,capsize=5)\n",
    "    ax2.set_ylabel('RAM [MB]')\n",
    "    ax1.set_title(f'RAM for {experiment}')\n",
    "    ax1.spines['top'].set_visible(False)\n",
    "    ax1.spines['right'].set_visible(False)\n",
    "    ax1.spines['left'].set_visible(False)\n",
    "    ax1.spines['bottom'].set_color('#DDDDDD')\n",
    "    ax2.spines['top'].set_visible(False)\n",
    "    ax2.spines['right'].set_visible(False)\n",
    "    ax2.spines['left'].set_visible(False)\n",
    "    ax2.spines['bottom'].set_color('#DDDDDD')\n",
    "\n",
    "    # Second, remove the ticks as well.\n",
    "    ax1.tick_params(bottom=False, left=False)\n",
    "    ax2.tick_params(bottom=False, left=False)\n",
    "    # Third, add a horizontal grid (but keep the vertical grid hidden).\n",
    "    # Color the lines a light gray as well.\n",
    "    ax1.set_axisbelow(True)\n",
    "    ax1.yaxis.grid(True, color='#EEEEEE')\n",
    "    ax1.xaxis.grid(False)\n",
    "    ax2.set_axisbelow(True)\n",
    "    ax2.yaxis.grid(True, color='#EEEEEE')\n",
    "    ax2.xaxis.grid(False)\n",
    "    # Rotate labels\n",
    "    ax1.set_ylim(500,6000)\n",
    "    ax2.set_ylim(0,500)\n",
    "    # Add values on top of bars\n",
    "    for bar in bars2:\n",
    "        # yval = bar.get_height()\n",
    "        # plt.text(bar.get_x() + bar.get_width()/2 -0.26, yval  +7.5, yval, ha='center', va='bottom',weight='bold')\n",
    "        yval = bar.get_height()\n",
    "        height = yval\n",
    "        print(yval)\n",
    "        if height > 1000:\n",
    "            height = height - 600\n",
    "        if height > 1000:\n",
    "            height = height - 1000\n",
    "        plt.text(\n",
    "            bar.get_x() + bar.get_width() / 2,  # X-coordinate: center of the bar\n",
    "            height + 7.5,  # Y-coordinate: above the top of the bar\n",
    "            f'{yval:.2f}',  # The value to display\n",
    "            ha='center',  # Horizontal alignment: center\n",
    "            va='bottom',  # Vertical alignment: bottom\n",
    "            weight='bold'  # Font weight: bold\n",
    "        )\n",
    "\n",
    "    # zoom-in / limit the view to different portions of the data\n",
    "    ax1.tick_params(axis='y', labelsize=10)\n",
    "    ax2.tick_params(axis='y', labelsize=10)\n",
    "    d = .5  # proportion of vertical to horizontal extent of the slanted line\n",
    "    kwargs = dict(marker=[(-1, -d), (1, d)], markersize=9,\n",
    "              linestyle=\"none\", color='k', mec='k', mew=1, clip_on=False)\n",
    "    ax1.plot([-0.15], transform=ax1.transAxes, **kwargs)\n",
    "    ax2.plot([1.08], transform=ax2.transAxes, **kwargs)\n",
    "    ax1.figure.set_size_inches(5.91, 2.8)\n",
    "    ax2.figure.set_size_inches(5.91, 2.8)\n",
    "    plt.xticks(rotation='vertical')\n",
    "    plt.show()\n",
    "plot_ram_bar(data,experiment,framworks)"
   ]
  }
 ],
 "metadata": {
  "kernelspec": {
   "display_name": "Python 3",
   "language": "python",
   "name": "python3"
  },
  "language_info": {
   "codemirror_mode": {
    "name": "ipython",
    "version": 3
   },
   "file_extension": ".py",
   "mimetype": "text/x-python",
   "name": "python",
   "nbconvert_exporter": "python",
   "pygments_lexer": "ipython3",
   "version": "3.12.3"
  }
 },
 "nbformat": 4,
 "nbformat_minor": 2
}
