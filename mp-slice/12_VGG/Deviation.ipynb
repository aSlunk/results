{
 "cells": [
  {
   "cell_type": "code",
   "execution_count": 586,
   "metadata": {},
   "outputs": [],
   "source": [
    "import numpy as np\n",
    "import matplotlib.pyplot as plt\n",
    "import seaborn as sns\n",
    "import pandas as pd\n",
    "import os\n",
    "import retrieval_functions as rf\n",
    "import importlib\n",
    "importlib.reload(rf)\n",
    "rf.init_plotting()"
   ]
  },
  {
   "cell_type": "code",
   "execution_count": 587,
   "metadata": {},
   "outputs": [],
   "source": [
    "experiment = \"01_Multiplication\" # 506\n",
    "experiment = \"02_Compare\" # 507|508|509\n",
    "# experiment = \"03_Share\"\n",
    "# experiment = \"04_LogReg\" # 526|527|528\n",
    "# experiment = \"05_Reveal\" # 512\n",
    "# experiment = \"06_LeNet\" # 529|530|531\n",
    "# experiment = \"07_Aes\" # 525\n",
    "# experiment = \"08_SecureMean\" # 519\n",
    "# experiment = \"09_SecureMin\" # 516|517|518\n",
    "# experiment = \"10_PSI\" # 520\n",
    "# experiment = \"11_Auction\" # 521|522|523\n",
    "experiment = \"12_VGG\" # 532|533|534\n",
    "# experiment = \"15_BitAND\" # 524\n",
    "# experiment = \"16_Division\" # 510\n",
    "\n",
    "framworks = [\"HPMPC\", \"mp-slice\", \"MP-SPDZ\"]\n",
    "# framworks = [\"MPyC\", \"HPMPC\", \"mp-slice\", \"MP-SPDZ\"]\n",
    "\n",
    "data = []\n",
    "base = \"./results/Deviation/\"\n",
    "for framework in framworks:\n",
    "    path= base + framework + \"/\" + experiment+\"/data/short_results.csv\"\n",
    "    frame=pd.read_csv(path ,header=0,sep=';',index_col=False,engine='python')\n",
    "    frame['framework']=framework\n",
    "    if framework==\"MPyC\":\n",
    "        # assuming your dataframe is df and the time column is 'time'\n",
    "        frame['runtime_internal(s)'] = pd.to_datetime(frame['runtime_internal(s)'], format='%H:%M:%S.%f').dt.time\n",
    "\n",
    "        # convert time to seconds\n",
    "        frame['runtime_internal(s)'] = frame['runtime_internal(s)'].apply(lambda t: t.hour*3600 + t.minute*60 + t.second + t.microsecond*1e-6)\n",
    "        frame['peakRAM(MiB)']= frame['peakRAM(MiB)']\n",
    "    elif framework==\"HPMPC\" or framework==\"mp-slice\":\n",
    "        factor = 1\n",
    "        if frame['splitroles'].max() == 1:\n",
    "            factor = 6\t\n",
    "        elif frame['splitroles'].max() == 2:\n",
    "            factor = 24\n",
    "        else:\n",
    "            factor=1\n",
    "        frame['runtime_external(s)'] = pd.to_numeric(frame['runtime_external(s)'])* frame['threads'].max()*factor\n",
    "    data.append(frame)"
   ]
  },
  {
   "cell_type": "code",
   "execution_count": 588,
   "metadata": {},
   "outputs": [],
   "source": [
    "import pandas as pd\n"
   ]
  },
  {
   "cell_type": "code",
   "execution_count": 589,
   "metadata": {},
   "outputs": [],
   "source": [
    "# fl_paths[-1].split(\"/\")[-2]"
   ]
  },
  {
   "cell_type": "code",
   "execution_count": 590,
   "metadata": {},
   "outputs": [],
   "source": [
    "# runtime/3600"
   ]
  },
  {
   "cell_type": "code",
   "execution_count": 591,
   "metadata": {},
   "outputs": [
    {
     "name": "stdout",
     "output_type": "stream",
     "text": [
      "bandwidths(Mbs)\n",
      "100      3.58\n",
      "1000     3.19\n",
      "10000    3.29\n",
      "25000    3.19\n",
      "Name: runtime_external(s), dtype: float64\n",
      "bandwidths(Mbs)\n",
      "100      1.40\n",
      "1000     0.35\n",
      "10000    0.33\n",
      "25000    0.33\n",
      "Name: runtime_external(s), dtype: float64\n",
      "bandwidths(Mbs)\n",
      "100      1.09\n",
      "1000     0.37\n",
      "10000    0.34\n",
      "25000    0.34\n",
      "Name: runtime_external(s), dtype: float64\n",
      "bandwidths(Mbs)\n",
      "100      291.37\n",
      "1000     293.70\n",
      "10000    287.97\n",
      "25000    286.97\n",
      "Name: runtime_external(s), dtype: float64\n",
      "bandwidths(Mbs)\n",
      "1000     286.93\n",
      "10000    286.92\n",
      "25000    286.85\n",
      "Name: runtime_external(s), dtype: float64\n",
      "1\n",
      "bandwidths(Mbs)\n",
      "100      66.94\n",
      "1000     21.71\n",
      "10000    20.96\n",
      "25000    21.75\n",
      "Name: runtime_external(s), dtype: float64\n",
      "['HPMPC 74', 'HPMPC 174', 'HPMPC 274', 'mp-slice 532', 'mp-slice 533', 'MP-SPDZ replicated-ring 1']\n"
     ]
    },
    {
     "data": {
      "image/png": "[encoded data removed]",
      "text/plain": [
       "<Figure size 591x380 with 1 Axes>"
      ]
     },
     "metadata": {},
     "output_type": "display_data"
    }
   ],
   "source": [
    "bandwidth,label=rf.get_bandwidth_deviation(data)\n",
    "# del bandwidth[0] # AUCTION\n",
    "# del bandwidth[1]\n",
    "# del bandwidth[-2]\n",
    "# del bandwidth[-2]\n",
    "# del label[0]\n",
    "# del label[1]\n",
    "# del label[-2]\n",
    "# del label[-2]\n",
    "# label = ['HPMPC',\n",
    "#          'mp-slice RCA',\n",
    "#          'mp-slice PPA',\n",
    "#          'mp-slice PPA4',\n",
    "#          'MP-SPDZ replicated-ring honest maj.',\n",
    "#          'MP-SPDZ semi2k dishonest maj.']\n",
    "\n",
    "# del label[-1] # AES\n",
    "# del bandwidth[-1]\n",
    "# del label[-2]\n",
    "# del bandwidth[-2]\n",
    "\n",
    "# del bandwidth[3] # DIVISION\n",
    "# del bandwidth[3]\n",
    "# del label[3]\n",
    "# del label[3]\n",
    "\n",
    "# del bandwidth[-2] # secure min\n",
    "# del bandwidth[-2]\n",
    "# del label[-2]\n",
    "# del label[-2]\n",
    "\n",
    "print(label)\n",
    "rf.plot_deviation(bandwidth,label,\"test.png\",experiment,\"Bandwidth [Mbit/s]\",\"Runtime [s]\",True)"
   ]
  },
  {
   "cell_type": "code",
   "execution_count": 592,
   "metadata": {},
   "outputs": [],
   "source": [
    "# latency,label=rf.get_latency_deviation(data)\n",
    "# del latency[0] # AUCTION\n",
    "# del latency[1]\n",
    "# del latency[2]\n",
    "# del latency[-2]\n",
    "# del latency[-2]\n",
    "# del label[0]\n",
    "# del label[1]\n",
    "# del label[2]\n",
    "# del label[-2]\n",
    "# del label[-2]\n",
    "\n",
    "# del label[-1] # AES\n",
    "# del latency[-1]\n",
    "# del label[-2]\n",
    "# del latency[-2]\n",
    "\n",
    "# del latency[3] # DIVISION\n",
    "# del latency[3]\n",
    "# del label[3]\n",
    "# del label[3]\n",
    "\n",
    "# del latency[-2] # secure min\n",
    "# del latency[-2]\n",
    "# del label[-2]\n",
    "# del label[-2]\n",
    "\n",
    "# del latency[-7] # LogReg\n",
    "# del latency[-7]\n",
    "# del latency[-7]\n",
    "# del latency[-7]\n",
    "# del latency[-7]\n",
    "# del label[-7]\n",
    "# del label[-7]\n",
    "# del label[-7]\n",
    "# del label[-7]\n",
    "# del label[-7]\n",
    "# print(latency)\n",
    "# rf.plot_deviation(latency,label,\"test.png\",experiment,\"Latency [ms]\",\"Runtime [s]\",True)"
   ]
  },
  {
   "cell_type": "code",
   "execution_count": 593,
   "metadata": {},
   "outputs": [],
   "source": [
    "# packetdrop,label=rf.get_packetdrop_deviation(data)\n",
    "# del packetdrop[0] # AUCTION\n",
    "# del packetdrop[1]\n",
    "# del packetdrop[2]\n",
    "# del packetdrop[-2]\n",
    "# del packetdrop[-2]\n",
    "# del label[0]\n",
    "# del label[1]\n",
    "# del label[2]\n",
    "# del label[-2]\n",
    "# del label[-2]\n",
    "\n",
    "# del label[-1] # AES\n",
    "# del packetdrop[-1]\n",
    "# del label[-2]\n",
    "# del packetdrop[-2]\n",
    "\n",
    "# del packetdrop[3] # Division\n",
    "# del packetdrop[3]\n",
    "# del label[3]\n",
    "# del label[3]\n",
    "\n",
    "# del packetdrop[-2] # secure min\n",
    "# del packetdrop[-2]\n",
    "# del label[-2]\n",
    "# del label[-2]\n",
    "# print(packetdrop)\n",
    "# rf.plot_deviation(packetdrop,label,\"test.png\",experiment,\"Packetdrop [%]\",\"Runtime [s]\",True)"
   ]
  },
  {
   "cell_type": "code",
   "execution_count": 594,
   "metadata": {},
   "outputs": [
    {
     "name": "stdout",
     "output_type": "stream",
     "text": [
      "bandwidths(Mbs)\n",
      "100      3.58\n",
      "1000     3.19\n",
      "10000    3.29\n",
      "25000    3.19\n",
      "Name: runtime_external(s), dtype: float64\n",
      "bandwidths(Mbs)\n",
      "100      1.40\n",
      "1000     0.35\n",
      "10000    0.33\n",
      "25000    0.33\n",
      "Name: runtime_external(s), dtype: float64\n",
      "bandwidths(Mbs)\n",
      "100      1.09\n",
      "1000     0.37\n",
      "10000    0.34\n",
      "25000    0.34\n",
      "Name: runtime_external(s), dtype: float64\n",
      "bandwidths(Mbs)\n",
      "100      291.37\n",
      "1000     293.70\n",
      "10000    287.97\n",
      "25000    286.97\n",
      "Name: runtime_external(s), dtype: float64\n",
      "bandwidths(Mbs)\n",
      "1000     286.93\n",
      "10000    286.92\n",
      "25000    286.85\n",
      "Name: runtime_external(s), dtype: float64\n",
      "1\n",
      "bandwidths(Mbs)\n",
      "100      66.94\n",
      "1000     21.71\n",
      "10000    20.96\n",
      "25000    21.75\n",
      "Name: runtime_external(s), dtype: float64\n"
     ]
    },
    {
     "data": {
      "text/plain": [
       "[3.068,\n",
       " 1.3969999999999998,\n",
       " 1.082,\n",
       " 290.72400000000005,\n",
       " 286.2444444444444,\n",
       " 66.466]"
      ]
     },
     "execution_count": 594,
     "metadata": {},
     "output_type": "execute_result"
    }
   ],
   "source": [
    "bandwidth,label=rf.get_bandwidth_deviation(data)\n",
    "# del bandwidth[0] # AUCTION\n",
    "# del bandwidth[1]\n",
    "# del bandwidth[2]\n",
    "# del bandwidth[-2]\n",
    "# del bandwidth[-2]\n",
    "# del label[0]\n",
    "# del label[1]\n",
    "# del label[2]\n",
    "# del label[-2]\n",
    "# del label[-2]\n",
    "\n",
    "# del label[-1] # AES\n",
    "# del bandwidth[-1]\n",
    "# del label[-2]\n",
    "# del bandwidth[-2]\n",
    "\n",
    "# del bandwidth[3] # Division\n",
    "# del bandwidth[3]\n",
    "# del label[3]\n",
    "# del label[3]\n",
    "\n",
    "# del bandwidth[-2] # secure min\n",
    "# del bandwidth[-2]\n",
    "# del label[-2]\n",
    "# del label[-2]\n",
    "[df['mean'].iloc[0] for df in bandwidth]"
   ]
  },
  {
   "cell_type": "code",
   "execution_count": 595,
   "metadata": {},
   "outputs": [
    {
     "data": {
      "text/plain": [
       "[0.7802962400410642,\n",
       " 0.004830458915396471,\n",
       " 0.007888106377466075,\n",
       " 0.4416937098638995,\n",
       " 0.5324263120637217,\n",
       " 0.31106269464530617]"
      ]
     },
     "execution_count": 595,
     "metadata": {},
     "output_type": "execute_result"
    }
   ],
   "source": [
    "[df['mean'].iloc[0] for df in bandwidth]\n",
    "[df['std'].iloc[0] for df in bandwidth]"
   ]
  },
  {
   "cell_type": "code",
   "execution_count": 596,
   "metadata": {},
   "outputs": [
    {
     "data": {
      "image/png": "[encoded data removed]",
      "text/plain": [
       "<Figure size 640x480 with 1 Axes>"
      ]
     },
     "metadata": {},
     "output_type": "display_data"
    }
   ],
   "source": [
    "import seaborn as sns\n",
    "import matplotlib.pyplot as plt\n",
    "\n",
    "# Extract the 'mean' and 'std' values separately\n",
    "mean_values = [df['mean'].iloc[0] for df in bandwidth]\n",
    "std_values = [df['std'].iloc[0] for df in bandwidth]\n",
    "\n",
    "# Create a bar plot with 'mean' values as the height of the bars and 'std' values as standard deviation\n",
    "fig, ax = plt.subplots()\n",
    "ax.bar(label, mean_values,yerr=std_values,capsize=3)\n",
    "\n",
    "plt.xticks(rotation='vertical')\n",
    "\n",
    "# Add labels and title\n",
    "plt.xlabel('Dataframe')\n",
    "plt.ylabel('Standard Deviation')\n",
    "plt.title('Bar Plot of Standard Deviation')\n",
    "\n",
    "# Set y-axis to logarithmic scale\n",
    "ax.set_yscale('log')\n",
    "\n",
    "# Show the plot\n",
    "plt.show()\n"
   ]
  },
  {
   "cell_type": "code",
   "execution_count": 600,
   "metadata": {},
   "outputs": [
    {
     "data": {
      "image/png": "[encoded data removed]",
      "text/plain": [
       "<Figure size 591x280 with 1 Axes>"
      ]
     },
     "metadata": {},
     "output_type": "display_data"
    }
   ],
   "source": [
    "import seaborn as sns\n",
    "import matplotlib.pyplot as plt\n",
    "# Example data\n",
    "fig, ax = plt.subplots()\n",
    "\n",
    "pos = 1\n",
    "deviation61 = data[pos].loc[(data[pos]['function'] == 532) & (data[pos]['preprocess']==0), ['runtime_external(s)']].values.flatten().tolist()\n",
    "deviation62 = data[pos].loc[(data[pos]['function'] == 533) & (data[pos]['preprocess']==0), ['runtime_external(s)']].values.flatten().tolist()\n",
    "# deviation63 = data[pos].loc[(data[pos]['function'] == 531) & (data[pos]['preprocess']==0), ['runtime_external(s)']].values.flatten().tolist()\n",
    "\n",
    "# Plot the first violin plot\n",
    "two_dimensional_list = [deviation61, deviation62]\n",
    "ax.violinplot(two_dimensional_list, showmeans=True, showmedians=True)\n",
    "# Set the x-tick labels\n",
    "ax.set_xticks([1, 2])\n",
    "ax.set_xticklabels([\"RCA\", \"PPA\"])\n",
    "\n",
    "\n",
    "# Set plot title and labels\n",
    "plt.title(f\"Devation of runtime for {framworks[pos]}: {experiment}\")\n",
    "plt.xlabel(\"Comparison Type\")\n",
    "plt.ylabel(\"Runtime [s]\")\n",
    "ax.figure.set_size_inches(5.91, 2.8)\n",
    "fig.tight_layout()\n",
    "plt.savefig(\"HPMPC_deviation.png\",dpi=300,bbox_inches='tight')\n",
    "plt.show()"
   ]
  }
 ],
 "metadata": {
  "kernelspec": {
   "display_name": "Python 3",
   "language": "python",
   "name": "python3"
  },
  "language_info": {
   "codemirror_mode": {
    "name": "ipython",
    "version": 3
   },
   "file_extension": ".py",
   "mimetype": "text/x-python",
   "name": "python",
   "nbconvert_exporter": "python",
   "pygments_lexer": "ipython3",
   "version": "3.12.3"
  }
 },
 "nbformat": 4,
 "nbformat_minor": 2
}
